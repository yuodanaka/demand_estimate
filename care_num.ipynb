{
 "cells": [
  {
   "cell_type": "code",
   "execution_count": 1,
   "metadata": {},
   "outputs": [],
   "source": [
    "import pandas as pd\n",
    "\n",
    "file=\"/Users/yuodanaka/Downloads/介護保険事業報告.xls\"\n",
    "\n",
    "#シート2（第1号保険者数）とシート9（第2号保険者数）を読み込み\n",
    "df1 = pd.read_excel(file, sheet_name=1,index_col=None,skiprows=[0,1,2,3], skipfooter=2)\n",
    "df2 = pd.read_excel(file, sheet_name=8,index_col=None,skiprows=[0,1,2,3], skipfooter=2)\n",
    "\n",
    "#それぞれ入らない列の削除\n",
    "#df1=df1.drop([\"Unnamed: 0\",\"合計\"],axis=1)\n",
    "#df2=df2.drop([\"Unnamed: 0\",\"合計\"],axis=1)\n",
    "\n",
    "#整形したそれぞれの表をdf_listに格納\n",
    "df_list=[]\n",
    "for i in [df1,df2]:\n",
    "    #入らない列の削除\n",
    "    tmp=i.drop([\"Unnamed: 0\",\"合計\"],axis=1)\n",
    "    #都道府県番号の列を加える\n",
    "    kn_list=[]\n",
    "    num_list=list(range(1,48))\n",
    "    for i in num_list:\n",
    "        s=str(i)\n",
    "        s=s.zfill(2)\n",
    "        kn_list.append(s)\n",
    "    tmp[\"都道府県ID\"]=kn_list\n",
    "    df_list.append(tmp)\n",
    "\n",
    "#df_list内の2つのファイルを結合\n",
    "df=pd.concat(df_list)\n",
    "\n",
    "#出力\n",
    "df.to_csv(\"/Users/yuodanaka/Downloads/care_num_for_demand.csv\", index=False)"
   ]
  }
 ],
 "metadata": {
  "kernelspec": {
   "display_name": "Python 3",
   "language": "python",
   "name": "python3"
  },
  "language_info": {
   "codemirror_mode": {
    "name": "ipython",
    "version": 3
   },
   "file_extension": ".py",
   "mimetype": "text/x-python",
   "name": "python",
   "nbconvert_exporter": "python",
   "pygments_lexer": "ipython3",
   "version": "3.7.7"
  }
 },
 "nbformat": 4,
 "nbformat_minor": 4
}
